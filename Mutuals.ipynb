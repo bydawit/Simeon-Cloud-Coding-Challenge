{
 "cells": [
  {
   "cell_type": "code",
   "execution_count": 26,
   "metadata": {},
   "outputs": [],
   "source": [
    "import tweepy\n",
    "import webbrowser\n",
    "import time\n",
    "\n",
    "# Imporing API keys\n",
    "import secret"
   ]
  },
  {
   "cell_type": "code",
   "execution_count": 27,
   "metadata": {},
   "outputs": [
    {
     "data": {
      "text/plain": [
       "('2424792887-NtUQEyGXMsgMfqpF5NwSmjAC45a0tZeDu9DgWqC',\n",
       " 'TeFSKylNvvrzW7Yp4iv2IHP8Hom2IDrIrHWEbyBPu6zoz')"
      ]
     },
     "execution_count": 27,
     "metadata": {},
     "output_type": "execute_result"
    }
   ],
   "source": [
    "# Auhtenticating main user\n",
    "\n",
    "auth = tweepy.OAuthHandler(secret.consumer_key, secret.consumer_secret)\n",
    "redirect_url = auth.get_authorization_url()\n",
    "webbrowser.open(redirect_url)\n",
    "user_pin_input = input(\"What's the pin value? \")\n",
    "auth.get_access_token(user_pin_input)"
   ]
  },
  {
   "cell_type": "code",
   "execution_count": 28,
   "metadata": {},
   "outputs": [],
   "source": [
    "# Initializing api access\n",
    "\n",
    "api = tweepy.API(auth, wait_on_rate_limit = True, wait_on_rate_limit_notify = True, compression = True)\n",
    "# me = api.me()"
   ]
  },
  {
   "cell_type": "code",
   "execution_count": 29,
   "metadata": {},
   "outputs": [
    {
     "name": "stdout",
     "output_type": "stream",
     "text": [
      "Enter a valid number\n"
     ]
    }
   ],
   "source": [
    "# Setting the follower limit to prevent waiting forever \n",
    "\n",
    "try:\n",
    "    follower_limit = int(input(\"Enter follower limit for users\"))\n",
    "    raise ValueError('Enter a valid number')\n",
    "except ValueError as e:\n",
    "    print(e)"
   ]
  },
  {
   "cell_type": "code",
   "execution_count": 30,
   "metadata": {},
   "outputs": [
    {
     "name": "stdout",
     "output_type": "stream",
     "text": [
      "First user:  Dawit \n",
      " -- Number of followers:  91 \n",
      " -- Number of followings:  149\n"
     ]
    }
   ],
   "source": [
    "first_user, second_user = None, None\n",
    "\n",
    "# Loading first user from input\n",
    "\n",
    "first_user_name = input(\"Enter the first username? \")\n",
    "try:\n",
    "    first_user = api.get_user(first_user_name)\n",
    "    # TODO: print some info about the user,\n",
    "    print(\"First user: \", first_user.name, \"\\n -- Number of followers: \", first_user.followers_count, \"\\n -- Number of followings: \", first_user.friends_count)\n",
    "    if first_user.followers_count > follower_limit or first_user.friends_count > follower_limit:\n",
    "        raise Exception(\"First user's followers exceeds given follower limit. Run the script again.\")\n",
    "except tweepy.TweepError as e:\n",
    "    print(\"First username not valid. Run the script again.\", e)\n",
    "except Exception as e:\n",
    "    print(e)\n"
   ]
  },
  {
   "cell_type": "code",
   "execution_count": 31,
   "metadata": {},
   "outputs": [
    {
     "name": "stdout",
     "output_type": "stream",
     "text": [
      "Second user:  snazzykias \n",
      " -- Number of followers:  1299 \n",
      " -- Number of followings:  1401\n"
     ]
    }
   ],
   "source": [
    "# Loading second user from input\n",
    "\n",
    "second_user_name = input(\"Enter a second username? \")\n",
    "try:\n",
    "    second_user = api.get_user(second_user_name)\n",
    "    print(\"Second user: \", second_user.name, \"\\n -- Number of followers: \", second_user.followers_count, \"\\n -- Number of followings: \", second_user.friends_count)\n",
    "    if second_user.followers_count > follower_limit or second_user.friends_count > follower_limit: \n",
    "        raise Exception(\"Second user's followers exceeds given follower limit. Run the script again.\")\n",
    "except tweepy.TweepError as e:\n",
    "    print(\"Second username not valid. Run the script again.\", e)\n",
    "except Exception as e:\n",
    "    print(e)"
   ]
  },
  {
   "cell_type": "code",
   "execution_count": 32,
   "metadata": {},
   "outputs": [],
   "source": [
    "# Collecting the first user's followers\n",
    "\n",
    "first_user_followers = []\n",
    "followers = tweepy.Cursor(api.followers, screen_name=first_user.screen_name, count = 200).items()\n",
    "while True:\n",
    "    try:\n",
    "        follower = followers.next()\n",
    "        first_user_followers.append(follower.screen_name)\n",
    "    except tweepy.TweepError as e:\n",
    "        print(\"Going to sleep:\", e)\n",
    "        time.sleep(60)\n",
    "        continue\n",
    "    except StopIteration:\n",
    "        break"
   ]
  },
  {
   "cell_type": "code",
   "execution_count": 33,
   "metadata": {},
   "outputs": [],
   "source": [
    "# Collecting the second user's followers\n",
    "\n",
    "second_user_followers = []\n",
    "followers = tweepy.Cursor(api.followers, screen_name=second_user.screen_name, count = 200).items()\n",
    "while True:\n",
    "    try:\n",
    "        follower = followers.next()\n",
    "        second_user_followers.append(follower.screen_name)\n",
    "    except tweepy.TweepError as e:\n",
    "        print(\"Going to sleep:\", e)\n",
    "        time.sleep(60)\n",
    "        continue\n",
    "    except StopIteration:\n",
    "        break"
   ]
  },
  {
   "cell_type": "code",
   "execution_count": 34,
   "metadata": {},
   "outputs": [],
   "source": [
    "# Collecting the common followers for the first and second user\n",
    "\n",
    "first_user_followers_set = {each: True for each in first_user_followers}\n",
    "common_followers = []\n",
    "for each in second_user_followers:\n",
    "    if each in first_user_followers_set:\n",
    "        common_followers.append(each)"
   ]
  },
  {
   "cell_type": "code",
   "execution_count": 35,
   "metadata": {},
   "outputs": [],
   "source": [
    "# Collecting the first user's followings\n",
    "\n",
    "first_user_following = []\n",
    "followers = tweepy.Cursor(api.friends, screen_name=first_user.screen_name, count = 200).items()\n",
    "while True:\n",
    "    try:\n",
    "        follower = followers.next()\n",
    "        first_user_following.append(follower.screen_name)\n",
    "    except tweepy.TweepError as e:\n",
    "        print(\"Going to sleep:\", e)\n",
    "        time.sleep(60)\n",
    "        continue\n",
    "    except StopIteration:\n",
    "        break\n"
   ]
  },
  {
   "cell_type": "code",
   "execution_count": 36,
   "metadata": {},
   "outputs": [],
   "source": [
    "# Collecting the second user's followings\n",
    "\n",
    "second_user_following = []\n",
    "followers = tweepy.Cursor(api.friends, screen_name=second_user.screen_name, count = 200).items()\n",
    "while True:\n",
    "    try:\n",
    "        follower = followers.next()\n",
    "        second_user_following.append(follower.screen_name)\n",
    "    except tweepy.TweepError as e:\n",
    "        print(\"Going to sleep:\", e)\n",
    "        time.sleep(60)\n",
    "        continue\n",
    "    except StopIteration:\n",
    "        break"
   ]
  },
  {
   "cell_type": "code",
   "execution_count": 37,
   "metadata": {},
   "outputs": [],
   "source": [
    "# Collecting the common followings for the first and second user\n",
    "\n",
    "first_user_following_set = {each: True for each in first_user_following}\n",
    "common_following = []\n",
    "for each in second_user_following:\n",
    "    if each in first_user_following_set:\n",
    "        common_following.append(each)"
   ]
  },
  {
   "cell_type": "code",
   "execution_count": 38,
   "metadata": {},
   "outputs": [
    {
     "name": "stdout",
     "output_type": "stream",
     "text": [
      "Common followers:  29\n",
      "['LovelyHeavv', 'crdhire', 'j_whaaat', 'XiomaraCst', 'KingstonJancro', 'rchrdffrench', '_Raeee__', 'byninacoladaa', '_laprieta_liz_', '_Calvinnjr', 'jeraldyneee', 'StepPrecision', 'MeliMel413', 'gldnhoneybun', 'HarmonyNSilence', 'JeffreyRambo', '_yenesua', '_kdaawgg', 'IGyening', 'nettaxmonique', 'angeliquetaver1', 'FlorSelena_', 'edgesfrayed', 'kleiva872', 'KxngLoui', 'reanna2022', 'BrothaCharles1', '_lidyyaa', 'TrillestPhil']\n",
      "-----\n",
      "Commonly following:  30\n",
      "['j_whaaat', 'rchrdffrench', 'XiomaraCst', 'crdhire', '_Raeee__', 'abiGO22', 'byninacoladaa', 'IGyening', 'jeraldyneee', '_Calvinnjr', 'alinasosaa', 'gldnhoneybun', '_laprieta_liz_', 'shishkamom', 'MeliMel413', 'BunaTime', '_yenesua', '_kdaawgg', 'nettaxmonique', 'ephrata', 'edgesfrayed', 'HarmonyNSilence', 'reanna2022', 'FlorSelena_', 'TrillestPhil', 'angeliquetaver1', 'kleiva872', 'emilypmo', 'KxngLoui', '_lidyyaa']\n"
     ]
    }
   ],
   "source": [
    "print(\"Common followers: \", len(common_followers))\n",
    "print(common_followers)\n",
    "print(\"-----\")\n",
    "print(\"Commonly following: \", len(common_following))\n",
    "print(common_following)\n"
   ]
  }
 ],
 "metadata": {
  "interpreter": {
   "hash": "aee8b7b246df8f9039afb4144a1f6fd8d2ca17a180786b69acc140d282b71a49"
  },
  "kernelspec": {
   "display_name": "Python 3.9.1 64-bit",
   "name": "python3"
  },
  "language_info": {
   "codemirror_mode": {
    "name": "ipython",
    "version": 3
   },
   "file_extension": ".py",
   "mimetype": "text/x-python",
   "name": "python",
   "nbconvert_exporter": "python",
   "pygments_lexer": "ipython3",
   "version": "3.9.1"
  },
  "metadata": {
   "interpreter": {
    "hash": "aee8b7b246df8f9039afb4144a1f6fd8d2ca17a180786b69acc140d282b71a49"
   }
  }
 },
 "nbformat": 4,
 "nbformat_minor": 4
}