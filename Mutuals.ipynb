{
 "cells": [
  {
   "cell_type": "code",
   "execution_count": 43,
   "metadata": {},
   "outputs": [],
   "source": [
    "import tweepy\n",
    "import webbrowser\n",
    "import time"
   ]
  },
  {
   "cell_type": "code",
   "execution_count": 44,
   "metadata": {},
   "outputs": [
    {
     "data": {
      "text/plain": [
       "('2424792887-NtUQEyGXMsgMfqpF5NwSmjAC45a0tZeDu9DgWqC',\n",
       " 'TeFSKylNvvrzW7Yp4iv2IHP8Hom2IDrIrHWEbyBPu6zoz')"
      ]
     },
     "execution_count": 44,
     "metadata": {},
     "output_type": "execute_result"
    }
   ],
   "source": [
    "consumer_key = \"aqI0Jdn0xB3gX9btU5KbIhpP8\"\n",
    "consumer_secret = \"dPMRiJNpXAetlJXa8LHx55kJ3hVcHcOB5v2BhUmOPVh0FNjtP3\"\n",
    "callback_uri = \"oob\"\n",
    "auth = tweepy.OAuthHandler(consumer_key, consumer_secret, callback_uri)\n",
    "redirect_url = auth.get_authorization_url()\n",
    "webbrowser.open(redirect_url)\n",
    "user_pin_input = input(\"What's the pin value? \")\n",
    "auth.get_access_token(user_pin_input)"
   ]
  },
  {
   "cell_type": "code",
   "execution_count": 45,
   "metadata": {},
   "outputs": [],
   "source": [
    "api = tweepy.API(auth, wait_on_rate_limit=True, wait_on_rate_limit_notify=True, compression=True)\n",
    "me = api.me()\n",
    "# print(me.screen_name)"
   ]
  },
  {
   "cell_type": "code",
   "execution_count": 46,
   "metadata": {},
   "outputs": [],
   "source": [
    "user = api.get_user(\"MikiasStewart\")\n",
    "# print(user.followers_count, user.friends_count)"
   ]
  },
  {
   "cell_type": "code",
   "execution_count": 47,
   "metadata": {},
   "outputs": [
    {
     "name": "stderr",
     "output_type": "stream",
     "text": [
      "Rate limit reached. Sleeping for: 301\n"
     ]
    }
   ],
   "source": [
    "user_followers = []\n",
    "for page in tweepy.Cursor(api.followers, screen_name=user.screen_name, wait_on_rate_limit=True,count=200).pages():\n",
    "    try:\n",
    "        user_followers.extend(page)\n",
    "    except tweepy.TweepError as e:\n",
    "        print(\"Going to sleep:\", e)\n",
    "        time.sleep(60)\n",
    "me_followers = []\n",
    "for page in tweepy.Cursor(api.followers, screen_name=me.screen_name, wait_on_rate_limit=True,count=200).pages():\n",
    "    try:\n",
    "        me_followers.extend(page)\n",
    "    except tweepy.TweepError as e:\n",
    "        print(\"Going to sleep:\", e)\n",
    "        time.sleep(60)"
   ]
  },
  {
   "cell_type": "code",
   "execution_count": 48,
   "metadata": {},
   "outputs": [],
   "source": [
    "user_follower_names = [each._json['screen_name'] for each in user_followers]\n",
    "me_follower_names = [each._json['screen_name'] for each in me_followers]"
   ]
  },
  {
   "cell_type": "code",
   "execution_count": 52,
   "metadata": {},
   "outputs": [],
   "source": [
    "my_followers = {each: True for each in me_follower_names}\n",
    "common_followers = []\n",
    "for each in user_follower_names:\n",
    "    if each in my_followers:\n",
    "        common_followers.append(each)"
   ]
  },
  {
   "cell_type": "code",
   "execution_count": 54,
   "metadata": {},
   "outputs": [],
   "source": [
    "user_following = []\n",
    "for page in tweepy.Cursor(api.friends, screen_name=user.screen_name, wait_on_rate_limit=True,count=200).pages():\n",
    "    try:\n",
    "        user_following.extend(page)\n",
    "    except tweepy.TweepError as e:\n",
    "        print(\"Going to sleep:\", e)\n",
    "        time.sleep(60)\n",
    "me_following = []\n",
    "for page in tweepy.Cursor(api.friends, screen_name=me.screen_name, wait_on_rate_limit=True,count=200).pages():\n",
    "    try:\n",
    "        me_following.extend(page)\n",
    "    except tweepy.TweepError as e:\n",
    "        print(\"Going to sleep:\", e)\n",
    "        time.sleep(60)\n"
   ]
  },
  {
   "cell_type": "code",
   "execution_count": 55,
   "metadata": {},
   "outputs": [],
   "source": [
    "user_following_names = [each._json['screen_name'] for each in user_following]\n",
    "me_following_names = [each._json['screen_name'] for each in me_following]"
   ]
  },
  {
   "cell_type": "code",
   "execution_count": 56,
   "metadata": {},
   "outputs": [],
   "source": [
    "my_following = {each: True for each in me_following_names}\n",
    "common_following = []\n",
    "for each in user_following_names:\n",
    "    if each in my_following:\n",
    "        common_following.append(each)"
   ]
  },
  {
   "cell_type": "code",
   "execution_count": 59,
   "metadata": {},
   "outputs": [
    {
     "name": "stdout",
     "output_type": "stream",
     "text": [
      "common_followers:  29\n",
      "['LovelyHeavv', 'crdhire', 'j_whaaat', 'XiomaraCst', 'KingstonJancro', 'rchrdffrench', '_Raeee__', 'byninacoladaa', '_laprieta_liz_', '_Calvinnjr', 'jeraldyneee', 'StepPrecision', 'MeliMel413', 'gldnhoneybun', 'HarmonyNSilence', 'JeffreyRambo', '_yenesua', '_kdaawgg', 'IGyening', 'nettaxmonique', 'angeliquetaver1', 'FlorSelena_', 'edgesfrayed', 'kleiva872', 'KxngLoui', 'reanna2022', 'BrothaCharles1', '_lidyyaa', 'TrillestPhil']\n",
      "-----\n",
      "common_following:  30\n",
      "['j_whaaat', 'rchrdffrench', 'XiomaraCst', 'crdhire', '_Raeee__', 'abiGO22', 'byninacoladaa', 'IGyening', 'jeraldyneee', '_Calvinnjr', 'alinasosaa', 'gldnhoneybun', '_laprieta_liz_', 'shishkamom', 'MeliMel413', 'BunaTime', '_yenesua', '_kdaawgg', 'nettaxmonique', 'ephrata', 'edgesfrayed', 'HarmonyNSilence', 'reanna2022', 'FlorSelena_', 'TrillestPhil', 'angeliquetaver1', 'kleiva872', 'emilypmo', 'KxngLoui', '_lidyyaa']\n"
     ]
    }
   ],
   "source": [
    "print(\"common_followers: \", len(common_followers))\n",
    "print(common_followers)\n",
    "print(\"-----\")\n",
    "print(\"common_following: \", len(common_following))\n",
    "print(common_following)\n"
   ]
  }
 ],
 "metadata": {
  "interpreter": {
   "hash": "aee8b7b246df8f9039afb4144a1f6fd8d2ca17a180786b69acc140d282b71a49"
  },
  "kernelspec": {
   "display_name": "Python 3.9.1 64-bit",
   "name": "python3"
  },
  "language_info": {
   "codemirror_mode": {
    "name": "ipython",
    "version": 3
   },
   "file_extension": ".py",
   "mimetype": "text/x-python",
   "name": "python",
   "nbconvert_exporter": "python",
   "pygments_lexer": "ipython3",
   "version": "3.9.1"
  },
  "metadata": {
   "interpreter": {
    "hash": "aee8b7b246df8f9039afb4144a1f6fd8d2ca17a180786b69acc140d282b71a49"
   }
  }
 },
 "nbformat": 4,
 "nbformat_minor": 4
}